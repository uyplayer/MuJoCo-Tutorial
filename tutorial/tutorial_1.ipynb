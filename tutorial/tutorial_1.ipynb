{
 "cells": [
  {
   "cell_type": "markdown",
   "metadata": {
    "id": "t0CF6Gvkt_Cw"
   },
   "source": [
    "# MuJoCo basics\n",
    "\n",
    "We begin by defining and loading a simple model:"
   ]
  },
  {
   "cell_type": "code",
   "execution_count": 1,
   "metadata": {
    "ExecuteTime": {
     "end_time": "2024-11-02T11:01:29.990972Z",
     "start_time": "2024-11-02T11:01:29.605692Z"
    }
   },
   "outputs": [],
   "source": [
    "import mujoco\n",
    "import mediapy as media\n",
    "import matplotlib.pyplot as plt\n",
    "\n",
    "import time\n",
    "import itertools\n",
    "import numpy as np"
   ]
  },
  {
   "cell_type": "code",
   "execution_count": 2,
   "metadata": {
    "ExecuteTime": {
     "end_time": "2024-11-02T11:01:30.003765Z",
     "start_time": "2024-11-02T11:01:29.995016Z"
    },
    "id": "3KJVqak6xdJa"
   },
   "outputs": [],
   "source": [
    "xml = \"\"\"\n",
    "<mujoco>\n",
    "  <worldbody>\n",
    "    <geom name=\"red_box\" type=\"box\" size=\".2 .2 .2\" rgba=\"1 0 0 1\"/>\n",
    "    <geom name=\"green_sphere\" pos=\".2 .2 .2\" size=\".1\" rgba=\"0 1 0 1\"/>\n",
    "  </worldbody>\n",
    "</mujoco>\n",
    "\"\"\"\n",
    "model = mujoco.MjModel.from_xml_string(xml)"
   ]
  },
  {
   "cell_type": "markdown",
   "metadata": {
    "id": "slhf39lGxvDI"
   },
   "source": [
    "The `xml` string is written in MuJoCo's [MJCF](http://www.mujoco.org/book/modeling.html), which is an [XML](https://en.wikipedia.org/wiki/XML#Key_terminology)-based modeling language.\n",
    "  - The only required element is `<mujoco>`. The smallest valid MJCF model is `<mujoco/>` which is a completely empty model.\n",
    "  - All physical elements live inside the `<worldbody>` which is always the top-level body and constitutes the global origin in Cartesian coordinates.\n",
    "  - We define two geoms in the world named `red_box` and `green_sphere`.\n",
    "  - **Question:** The `red_box` has no position, the `green_sphere` has no type, why is that?\n",
    "    - **Answer:** MJCF attributes have *default values*. The default position is `0 0 0`, the default geom type is `sphere`. The MJCF language is described in the documentation's [XML Reference chapter](https://mujoco.readthedocs.io/en/latest/XMLreference.html).\n",
    "\n",
    "The `from_xml_string()` method invokes the model compiler, which creates a binary `mjModel` instance."
   ]
  },
  {
   "cell_type": "markdown",
   "metadata": {
    "id": "gf9h_wi9weet"
   },
   "source": [
    "## mjModel\n",
    "\n",
    "MuJoCo's `mjModel`, contains the *model description*, i.e., all quantities which *do not change over time*. The complete description of `mjModel` can be found at the end of the header file [`mjmodel.h`](https://github.com/deepmind/mujoco/blob/main/include/mujoco/mjmodel.h). Note that the header files contain short, useful inline comments, describing each field.\n",
    "\n",
    "Examples of quantities that can be found in `mjModel` are `ngeom`, the number of geoms in the scene and `geom_rgba`, their respective colors:"
   ]
  },
  {
   "cell_type": "code",
   "execution_count": 3,
   "metadata": {
    "ExecuteTime": {
     "end_time": "2024-11-02T11:01:30.065593Z",
     "start_time": "2024-11-02T11:01:30.060903Z"
    },
    "id": "F40Pe6DY3Q0g"
   },
   "outputs": [
    {
     "data": {
      "text/plain": [
       "2"
      ]
     },
     "execution_count": 3,
     "metadata": {},
     "output_type": "execute_result"
    }
   ],
   "source": [
    "model.ngeom"
   ]
  },
  {
   "cell_type": "code",
   "execution_count": 4,
   "metadata": {
    "ExecuteTime": {
     "end_time": "2024-11-02T11:01:30.095788Z",
     "start_time": "2024-11-02T11:01:30.092273Z"
    },
    "id": "MOIJG9pzx8cA"
   },
   "outputs": [
    {
     "data": {
      "text/plain": [
       "array([[1., 0., 0., 1.],\n",
       "       [0., 1., 0., 1.]], dtype=float32)"
      ]
     },
     "execution_count": 4,
     "metadata": {},
     "output_type": "execute_result"
    }
   ],
   "source": [
    "model.geom_rgba"
   ]
  },
  {
   "cell_type": "markdown",
   "metadata": {
    "id": "bzcLjdY23Kvp"
   },
   "source": [
    "## Named access\n",
    "\n",
    "The MuJoCo Python bindings provide convenient [accessors](https://mujoco.readthedocs.io/en/latest/python.html#named-access) using names. Calling the `model.geom()` accessor without a name string generates a convenient error that tells us what the valid names are."
   ]
  },
  {
   "cell_type": "code",
   "execution_count": 5,
   "metadata": {
    "ExecuteTime": {
     "end_time": "2024-11-02T11:01:30.158848Z",
     "start_time": "2024-11-02T11:01:30.156598Z"
    },
    "id": "9AuTwbLFyJxQ"
   },
   "outputs": [
    {
     "name": "stdout",
     "output_type": "stream",
     "text": [
      "\"Invalid name ''. Valid names: ['green_sphere', 'red_box']\"\n"
     ]
    }
   ],
   "source": [
    "try:\n",
    "  model.geom()\n",
    "except KeyError as e:\n",
    "  print(e)"
   ]
  },
  {
   "cell_type": "markdown",
   "metadata": {
    "id": "qkfLK3h2zrqr"
   },
   "source": [
    "Calling the named accessor without specifying a property will tell us what all the valid properties are:"
   ]
  },
  {
   "cell_type": "code",
   "execution_count": 6,
   "metadata": {
    "ExecuteTime": {
     "end_time": "2024-11-02T11:01:30.218371Z",
     "start_time": "2024-11-02T11:01:30.213996Z"
    },
    "id": "9X95TlWnyEEw"
   },
   "outputs": [
    {
     "data": {
      "text/plain": [
       "<_MjModelGeomViews\n",
       "  bodyid: array([0], dtype=int32)\n",
       "  conaffinity: array([1], dtype=int32)\n",
       "  condim: array([3], dtype=int32)\n",
       "  contype: array([1], dtype=int32)\n",
       "  dataid: array([-1], dtype=int32)\n",
       "  friction: array([1.e+00, 5.e-03, 1.e-04])\n",
       "  gap: array([0.])\n",
       "  group: array([0], dtype=int32)\n",
       "  id: 1\n",
       "  margin: array([0.])\n",
       "  matid: array([-1], dtype=int32)\n",
       "  name: 'green_sphere'\n",
       "  pos: array([0.2, 0.2, 0.2])\n",
       "  priority: array([0], dtype=int32)\n",
       "  quat: array([1., 0., 0., 0.])\n",
       "  rbound: array([0.1])\n",
       "  rgba: array([0., 1., 0., 1.], dtype=float32)\n",
       "  sameframe: array([3], dtype=uint8)\n",
       "  size: array([0.1, 0. , 0. ])\n",
       "  solimp: array([9.0e-01, 9.5e-01, 1.0e-03, 5.0e-01, 2.0e+00])\n",
       "  solmix: array([1.])\n",
       "  solref: array([0.02, 1.  ])\n",
       "  type: array([2], dtype=int32)\n",
       "  user: array([], dtype=float64)\n",
       ">"
      ]
     },
     "execution_count": 6,
     "metadata": {},
     "output_type": "execute_result"
    }
   ],
   "source": [
    "model.geom('green_sphere')"
   ]
  },
  {
   "cell_type": "markdown",
   "metadata": {
    "id": "mS9qDLevKsJq"
   },
   "source": [
    "Let's read the `green_sphere`'s rgba values:"
   ]
  },
  {
   "cell_type": "code",
   "execution_count": 7,
   "metadata": {
    "ExecuteTime": {
     "end_time": "2024-11-02T11:01:30.303438Z",
     "start_time": "2024-11-02T11:01:30.297089Z"
    },
    "id": "xsBlJAV7zpHb"
   },
   "outputs": [
    {
     "data": {
      "text/plain": [
       "array([0., 1., 0., 1.], dtype=float32)"
      ]
     },
     "execution_count": 7,
     "metadata": {},
     "output_type": "execute_result"
    }
   ],
   "source": [
    "model.geom('green_sphere').rgba"
   ]
  },
  {
   "cell_type": "markdown",
   "metadata": {
    "id": "8a8hswjjKyIa"
   },
   "source": [
    "This functionality is a convenience shortcut for MuJoCo's [`mj_name2id`](https://mujoco.readthedocs.io/en/latest/APIreference.html?highlight=mj_name2id#mj-name2id) function:"
   ]
  },
  {
   "cell_type": "code",
   "execution_count": 8,
   "metadata": {
    "ExecuteTime": {
     "end_time": "2024-11-02T11:01:30.388557Z",
     "start_time": "2024-11-02T11:01:30.384496Z"
    },
    "id": "Ng92hNUoKnVq"
   },
   "outputs": [
    {
     "data": {
      "text/plain": [
       "array([0., 1., 0., 1.], dtype=float32)"
      ]
     },
     "execution_count": 8,
     "metadata": {},
     "output_type": "execute_result"
    }
   ],
   "source": [
    "id = mujoco.mj_name2id(model, mujoco.mjtObj.mjOBJ_GEOM, 'green_sphere')\n",
    "model.geom_rgba[id, :]"
   ]
  },
  {
   "cell_type": "markdown",
   "metadata": {
    "id": "5WL_SaJPLl3r"
   },
   "source": [
    "Similarly, the read-only `id` and `name` properties can be used to convert from id to name and back:"
   ]
  },
  {
   "cell_type": "code",
   "execution_count": 9,
   "metadata": {
    "ExecuteTime": {
     "end_time": "2024-11-02T11:01:30.469214Z",
     "start_time": "2024-11-02T11:01:30.464737Z"
    },
    "id": "2CbGSmRZeE5p"
   },
   "outputs": [
    {
     "name": "stdout",
     "output_type": "stream",
     "text": [
      "id of \"green_sphere\":  1\n",
      "name of geom 1:  green_sphere\n",
      "name of body 0:  world\n"
     ]
    }
   ],
   "source": [
    "print('id of \"green_sphere\": ', model.geom('green_sphere').id)\n",
    "print('name of geom 1: ', model.geom(1).name)\n",
    "print('name of body 0: ', model.body(0).name)"
   ]
  },
  {
   "cell_type": "markdown",
   "metadata": {
    "id": "3RIizubaL_du"
   },
   "source": [
    "Note that the 0th body is always the `world`. It cannot be renamed.\n",
    "\n",
    "The `id` and `name` attributes are useful in Python comprehensions:"
   ]
  },
  {
   "cell_type": "code",
   "execution_count": 10,
   "metadata": {
    "ExecuteTime": {
     "end_time": "2024-11-02T11:01:30.511835Z",
     "start_time": "2024-11-02T11:01:30.497684Z"
    },
    "id": "m3MtIE5F1K7s"
   },
   "outputs": [
    {
     "data": {
      "text/plain": [
       "['red_box', 'green_sphere']"
      ]
     },
     "execution_count": 10,
     "metadata": {},
     "output_type": "execute_result"
    }
   ],
   "source": [
    "[model.geom(i).name for i in range(model.ngeom)]"
   ]
  },
  {
   "cell_type": "markdown",
   "metadata": {
    "id": "t5hY0fyXFLcf"
   },
   "source": [
    "## `mjData`\n",
    "`mjData` contains the *state* and quantities that depend on it. The state is made up of time, [generalized](https://en.wikipedia.org/wiki/Generalized_coordinates) positions and generalized velocities. These are respectively `data.time`, `data.qpos` and `data.qvel`. In order to make a new `mjData`, all we need is our `mjModel`"
   ]
  },
  {
   "cell_type": "code",
   "execution_count": 11,
   "metadata": {
    "ExecuteTime": {
     "end_time": "2024-11-02T11:01:30.563757Z",
     "start_time": "2024-11-02T11:01:30.561059Z"
    },
    "id": "FV2Hy6m948nr"
   },
   "outputs": [],
   "source": [
    "data = mujoco.MjData(model)"
   ]
  },
  {
   "cell_type": "markdown",
   "metadata": {
    "id": "-KmNuvlJ46u0"
   },
   "source": [
    "`mjData` also contains *functions of the state*, for example the Cartesian positions of objects in the world frame. The (x, y, z) positions of our two geoms are in `data.geom_xpos`:"
   ]
  },
  {
   "cell_type": "code",
   "execution_count": 12,
   "metadata": {
    "ExecuteTime": {
     "end_time": "2024-11-02T11:01:30.610745Z",
     "start_time": "2024-11-02T11:01:30.603196Z"
    },
    "id": "CPwDcAQ0-uUE"
   },
   "outputs": [
    {
     "name": "stdout",
     "output_type": "stream",
     "text": [
      "[[0. 0. 0.]\n",
      " [0. 0. 0.]]\n"
     ]
    }
   ],
   "source": [
    "print(data.geom_xpos)"
   ]
  },
  {
   "cell_type": "markdown",
   "metadata": {
    "id": "Sjst5xGXX3sr"
   },
   "source": [
    "Wait, why are both of our geoms at the origin? Didn't we offset the green sphere? The answer is that derived quantities in `mjData` need to be explicitly propagated (see [below](#scrollTo=QY1gpms1HXeN)). In our case, the minimal required function is [`mj_kinematics`](https://mujoco.readthedocs.io/en/latest/APIreference.html#mj-kinematics), which computes global Cartesian poses for all objects (excluding cameras and lights)."
   ]
  },
  {
   "cell_type": "code",
   "execution_count": 13,
   "metadata": {
    "ExecuteTime": {
     "end_time": "2024-11-02T11:01:30.619188Z",
     "start_time": "2024-11-02T11:01:30.614359Z"
    },
    "id": "tfe0YeZRYNTr"
   },
   "outputs": [
    {
     "name": "stdout",
     "output_type": "stream",
     "text": [
      "raw access:\n",
      " [[0.  0.  0. ]\n",
      " [0.2 0.2 0.2]]\n",
      "\n",
      "named access:\n",
      " [0.2 0.2 0.2]\n"
     ]
    }
   ],
   "source": [
    "mujoco.mj_kinematics(model, data)\n",
    "print('raw access:\\n', data.geom_xpos)\n",
    "\n",
    "# MjData also supports named access:\n",
    "print('\\nnamed access:\\n', data.geom('green_sphere').xpos)"
   ]
  },
  {
   "cell_type": "markdown",
   "metadata": {
    "id": "eU7uWNsTwmcZ"
   },
   "source": [
    "# Basic rendering, simulation, and animation\n",
    "\n",
    "In order to render we'll need to instantiate a `Renderer` object and call its `render` method.\n",
    "\n",
    "We'll also reload our model to make the colab's sections independent."
   ]
  },
  {
   "cell_type": "code",
   "execution_count": 14,
   "metadata": {
    "ExecuteTime": {
     "end_time": "2024-11-02T11:01:30.863221Z",
     "start_time": "2024-11-02T11:01:30.686541Z"
    },
    "id": "xK3c0-UDxMrN"
   },
   "outputs": [
    {
     "data": {
      "text/html": [
       "<table class=\"show_images\" style=\"border-spacing:0px;\"><tr><td style=\"padding:1px;\"><img width=\"320\" height=\"240\" style=\"image-rendering:auto; object-fit:cover;\" src=\"data:image/png;base64,iVBORw0KGgoAAAANSUhEUgAAAUAAAADwCAIAAAD+Tyo8AAAA9UlEQVR4nO3BAQEAAACCIP+vbkhAAQAAAAAAAAAAAAAAAAAAAAAAAAAAAAAAAAAAAAAAAAAAAAAAAAAAAAAAAAAAAAAAAAAAAAAAAAAAAAAAAAAAAAAAAAAAAAAAAAAAAAAAAAAAAAAAAAAAAAAAAAAAAAAAAAAAAAAAAAAAAAAAAAAAAAAAAAAAAAAAAAAAAAAAAAAAAAAAAAAAAAAAAAAAAAAAAAAAAAAAAAAAAAAAAAAAAAAAAAAAAAAAAAAAAAAAAAAAAAAAAAAAAAAAAAAAAAAAAAAAAAAAAAAAAAAAAAAAAAAAAAAAAAAAAAAAAAAAAPBohR0AAXbPpmUAAAAASUVORK5CYII=\"/></td></tr></table>"
      ],
      "text/plain": [
       "<IPython.core.display.HTML object>"
      ]
     },
     "metadata": {},
     "output_type": "display_data"
    }
   ],
   "source": [
    "xml = \"\"\"\n",
    "<mujoco>\n",
    "  <worldbody>\n",
    "    <light name=\"top\" pos=\"0 0 1\"/>\n",
    "    <geom name=\"red_box\" type=\"box\" size=\".2 .2 .2\" rgba=\"1 0 0 1\"/>\n",
    "    <geom name=\"green_sphere\" pos=\".2 .2 .2\" size=\".1\" rgba=\"0 1 0 1\"/>\n",
    "  </worldbody>\n",
    "</mujoco>\n",
    "\"\"\"\n",
    "#\n",
    "# Make model and data\n",
    "model = mujoco.MjModel.from_xml_string(xml)\n",
    "data = mujoco.MjData(model)\n",
    "\n",
    "# Make renderer, render and show the pixels\n",
    "renderer = mujoco.Renderer(model)\n",
    "media.show_image(renderer.render())"
   ]
  },
  {
   "cell_type": "markdown",
   "metadata": {
    "id": "ZkFSHeYGxlT5"
   },
   "source": [
    "Hmmm, why the black pixels?\n",
    "\n",
    "**Answer:** For the same reason as above, we first need to propagate the values in `mjData`. This time we'll call [`mj_forward`](https://mujoco.readthedocs.io/en/latest/APIreference.html#mj-forward), which invokes the entire pipeline up to the computation of accelerations i.e., it computes $\\dot x = f(x)$, where $x$ is the state. This function does more than we actually need, but unless we care about saving computation time, it's good practice to call `mj_forward` since then we know we are not missing anything.\n",
    "\n",
    "We also need to update the `mjvScene` which is an object held by the renderer describing the visual scene. We'll later see that the scene can include visual objects which are not part of the physical model."
   ]
  },
  {
   "cell_type": "code",
   "execution_count": 15,
   "metadata": {
    "ExecuteTime": {
     "end_time": "2024-11-02T11:01:30.876791Z",
     "start_time": "2024-11-02T11:01:30.869226Z"
    },
    "id": "pvh47r97huS4"
   },
   "outputs": [
    {
     "data": {
      "text/html": [
       "<table class=\"show_images\" style=\"border-spacing:0px;\"><tr><td style=\"padding:1px;\"><img width=\"320\" height=\"240\" style=\"image-rendering:auto; object-fit:cover;\" src=\"data:image/png;base64,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\"/></td></tr></table>"
      ],
      "text/plain": [
       "<IPython.core.display.HTML object>"
      ]
     },
     "metadata": {},
     "output_type": "display_data"
    }
   ],
   "source": [
    "mujoco.mj_forward(model, data)\n",
    "renderer.update_scene(data)\n",
    "\n",
    "media.show_image(renderer.render())"
   ]
  },
  {
   "cell_type": "markdown",
   "metadata": {
    "id": "-P95E-QHizQq"
   },
   "source": [
    "# Simulation\n",
    "\n",
    "Now let's simulate and make a video. We'll use MuJoCo's main high level function `mj_step`, which steps the state $x_{t+h} = f(x_t)$.\n",
    "\n",
    "Note that in the code block below we are *not* rendering after each call to `mj_step`. This is because the default timestep is 2ms, and we want a 60fps video, not 500fps."
   ]
  },
  {
   "cell_type": "code",
   "execution_count": null,
   "metadata": {
    "ExecuteTime": {
     "start_time": "2024-11-02T11:01:30.894187Z"
    },
    "id": "NdVnHOYisiKl",
    "jupyter": {
     "is_executing": true
    }
   },
   "outputs": [],
   "source": [
    "duration = 3.8  # (seconds)\n",
    "framerate = 60  # (Hz)\n",
    "\n",
    "# Simulate and display video.\n",
    "frames = []\n",
    "mujoco.mj_resetData(model, data)  # Reset state and time.\n",
    "while data.time < duration:\n",
    "  mujoco.mj_step(model, data)\n",
    "  if len(frames) < data.time * framerate:\n",
    "    renderer.update_scene(data)\n",
    "    pixels = renderer.render()\n",
    "    frames.append(pixels)\n",
    "media.show_video(frames, fps=framerate)"
   ]
  },
  {
   "cell_type": "markdown",
   "metadata": {
    "id": "-P95E-QHizQq"
   },
   "source": [
    "But isn't anything moving?"
   ]
  }
 ],
 "metadata": {
  "accelerator": "GPU",
  "colab": {
   "collapsed_sections": [
    "-re3Szx-1Ias"
   ],
   "private_outputs": true,
   "provenance": [],
   "toc_visible": true
  },
  "gpuClass": "premium",
  "kernelspec": {
   "display_name": "Python 3 (ipykernel)",
   "language": "python",
   "name": "python3"
  },
  "language_info": {
   "codemirror_mode": {
    "name": "ipython",
    "version": 3
   },
   "file_extension": ".py",
   "mimetype": "text/x-python",
   "name": "python",
   "nbconvert_exporter": "python",
   "pygments_lexer": "ipython3",
   "version": "3.12.7"
  }
 },
 "nbformat": 4,
 "nbformat_minor": 4
}
